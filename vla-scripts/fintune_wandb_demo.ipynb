{
 "cells": [
  {
   "cell_type": "code",
   "execution_count": 1,
   "metadata": {},
   "outputs": [
    {
     "name": "stderr",
     "output_type": "stream",
     "text": [
      "\u001b[34m\u001b[1mwandb\u001b[0m: Currently logged in as: \u001b[33m15652388600\u001b[0m to \u001b[32mhttps://api.wandb.ai\u001b[0m. Use \u001b[1m`wandb login --relogin`\u001b[0m to force relogin\n"
     ]
    },
    {
     "data": {
      "text/html": [
       "Tracking run with wandb version 0.20.1"
      ],
      "text/plain": [
       "<IPython.core.display.HTML object>"
      ]
     },
     "metadata": {},
     "output_type": "display_data"
    },
    {
     "data": {
      "text/html": [
       "Run data is saved locally in <code>/mnt/sda/home/zijianwang/openvla/vla-scripts/wandb/run-20250707_205639-y5mhyiep</code>"
      ],
      "text/plain": [
       "<IPython.core.display.HTML object>"
      ]
     },
     "metadata": {},
     "output_type": "display_data"
    },
    {
     "data": {
      "text/html": [
       "Syncing run <strong><a href='https://wandb.ai/15652388600/debug_example/runs/y5mhyiep' target=\"_blank\">debug_run_20250707_205637</a></strong> to <a href='https://wandb.ai/15652388600/debug_example' target=\"_blank\">Weights & Biases</a> (<a href='https://wandb.me/developer-guide' target=\"_blank\">docs</a>)<br>"
      ],
      "text/plain": [
       "<IPython.core.display.HTML object>"
      ]
     },
     "metadata": {},
     "output_type": "display_data"
    },
    {
     "data": {
      "text/html": [
       " View project at <a href='https://wandb.ai/15652388600/debug_example' target=\"_blank\">https://wandb.ai/15652388600/debug_example</a>"
      ],
      "text/plain": [
       "<IPython.core.display.HTML object>"
      ]
     },
     "metadata": {},
     "output_type": "display_data"
    },
    {
     "data": {
      "text/html": [
       " View run at <a href='https://wandb.ai/15652388600/debug_example/runs/y5mhyiep' target=\"_blank\">https://wandb.ai/15652388600/debug_example/runs/y5mhyiep</a>"
      ],
      "text/plain": [
       "<IPython.core.display.HTML object>"
      ]
     },
     "metadata": {},
     "output_type": "display_data"
    },
    {
     "name": "stderr",
     "output_type": "stream",
     "text": [
      "2025-07-07 20:56:40,123 - INFO - t: 0, loss: 1.0, batch: 1, epoch: 1\n",
      "2025-07-07 20:56:40,125 - INFO - t: 1, loss: 0.98, batch: 2, epoch: 1\n",
      "2025-07-07 20:56:40,126 - INFO - t: 2, loss: 0.96, batch: 3, epoch: 1\n",
      "2025-07-07 20:56:40,127 - INFO - t: 3, loss: 0.9, batch: 1, epoch: 2\n",
      "2025-07-07 20:56:40,128 - INFO - t: 4, loss: 0.88, batch: 2, epoch: 2\n",
      "2025-07-07 20:56:40,129 - INFO - t: 5, loss: 0.86, batch: 3, epoch: 2\n",
      "2025-07-07 20:56:40,129 - INFO - t: 6, loss: 0.8, batch: 1, epoch: 3\n",
      "2025-07-07 20:56:40,130 - INFO - t: 7, loss: 0.78, batch: 2, epoch: 3\n",
      "2025-07-07 20:56:40,131 - INFO - t: 8, loss: 0.76, batch: 3, epoch: 3\n",
      "2025-07-07 20:56:40,132 - INFO - t: 9, loss: 0.7, batch: 1, epoch: 4\n",
      "2025-07-07 20:56:40,133 - INFO - t: 10, loss: 0.6799999999999999, batch: 2, epoch: 4\n",
      "2025-07-07 20:56:40,134 - INFO - t: 11, loss: 0.6599999999999999, batch: 3, epoch: 4\n",
      "2025-07-07 20:56:40,134 - INFO - t: 12, loss: 0.6, batch: 1, epoch: 5\n",
      "2025-07-07 20:56:40,135 - INFO - t: 13, loss: 0.58, batch: 2, epoch: 5\n",
      "2025-07-07 20:56:40,136 - INFO - t: 14, loss: 0.5599999999999999, batch: 3, epoch: 5\n"
     ]
    },
    {
     "data": {
      "text/html": [],
      "text/plain": [
       "<IPython.core.display.HTML object>"
      ]
     },
     "metadata": {},
     "output_type": "display_data"
    },
    {
     "data": {
      "text/html": [
       "<br>    <style><br>        .wandb-row {<br>            display: flex;<br>            flex-direction: row;<br>            flex-wrap: wrap;<br>            justify-content: flex-start;<br>            width: 100%;<br>        }<br>        .wandb-col {<br>            display: flex;<br>            flex-direction: column;<br>            flex-basis: 100%;<br>            flex: 1;<br>            padding: 10px;<br>        }<br>    </style><br><div class=\"wandb-row\"><div class=\"wandb-col\"><h3>Run history:</h3><br/><table class=\"wandb\"><tr><td>batch</td><td>▁▅█▁▅█▁▅█▁▅█▁▅█</td></tr><tr><td>epoch</td><td>▁▁▁▃▃▃▅▅▅▆▆▆███</td></tr><tr><td>loss</td><td>██▇▆▆▆▅▄▄▃▃▃▂▁▁</td></tr></table><br/></div><div class=\"wandb-col\"><h3>Run summary:</h3><br/><table class=\"wandb\"><tr><td>Debug summary</td><td>训练完成，共5个epoch，最终loss...</td></tr><tr><td>Setup</td><td>模型和数据加载完成</td></tr><tr><td>batch</td><td>3</td></tr><tr><td>debug_msg</td><td>Batch 3 处理完成，当前loss:...</td></tr><tr><td>epoch</td><td>5</td></tr><tr><td>loss</td><td>0.56</td></tr></table><br/></div></div>"
      ],
      "text/plain": [
       "<IPython.core.display.HTML object>"
      ]
     },
     "metadata": {},
     "output_type": "display_data"
    },
    {
     "data": {
      "text/html": [
       " View run <strong style=\"color:#cdcd00\">debug_run_20250707_205637</strong> at: <a href='https://wandb.ai/15652388600/debug_example/runs/y5mhyiep' target=\"_blank\">https://wandb.ai/15652388600/debug_example/runs/y5mhyiep</a><br> View project at: <a href='https://wandb.ai/15652388600/debug_example' target=\"_blank\">https://wandb.ai/15652388600/debug_example</a><br>Synced 5 W&B file(s), 1 media file(s), 2 artifact file(s) and 0 other file(s)"
      ],
      "text/plain": [
       "<IPython.core.display.HTML object>"
      ]
     },
     "metadata": {},
     "output_type": "display_data"
    },
    {
     "data": {
      "text/html": [
       "Find logs at: <code>./wandb/run-20250707_205639-y5mhyiep/logs</code>"
      ],
      "text/plain": [
       "<IPython.core.display.HTML object>"
      ]
     },
     "metadata": {},
     "output_type": "display_data"
    }
   ],
   "source": [
    "import wandb\n",
    "import torch\n",
    "import time\n",
    "import logging\n",
    "# Configure logging\n",
    "\n",
    "logging.basicConfig(\n",
    "    level=logging.INFO,\n",
    "    format='%(asctime)s - %(levelname)s - %(message)s',\n",
    "    handlers=[\n",
    "        logging.StreamHandler()  # Print to console\n",
    "    ]\n",
    ")\n",
    "\n",
    "\n",
    "# 初始化wandb\n",
    "run = wandb.init(\n",
    "    project=\"debug_example\",\n",
    "    notes=\"调试训练流程\",\n",
    "    name=\"debug_run_\" + time.strftime(\"%Y%m%d_%H%M%S\")\n",
    ")\n",
    "\n",
    "# 记录初始化信息\n",
    "run.summary['Setup'] = \"模型和数据加载完成\"\n",
    "t = 0 \n",
    "# 模拟训练循环\n",
    "for epoch in range(5):\n",
    "    # # 记录每个epoch开始的状态\n",
    "    # wandb.log({\n",
    "    #     \"status_info\": f\"开始第{epoch+1}个epoch的训练\",\n",
    "    #     \"epoch\": epoch+1\n",
    "    # })\n",
    "    \n",
    "    # 模拟训练过程\n",
    "    for batch_idx in range(3):\n",
    "        # # 记录批次处理信息\n",
    "        # if batch_idx == 0:\n",
    "        #     wandb.log({\n",
    "        #         \"batch_info\": f\"Epoch {epoch+1}: 处理第{batch_idx+1}个批次\",\n",
    "        #         \"epoch\": epoch+1,\n",
    "        #         \"batch\": batch_idx+1\n",
    "        #     })\n",
    "        \n",
    "        # 模拟计算loss等指标\n",
    "        loss = 1.0 - 0.1 * epoch - 0.02 * batch_idx\n",
    "\n",
    "        # 同时记录数值指标和文本信息\n",
    "        wandb.log({\n",
    "            \"loss\": loss,\n",
    "            \"epoch\": epoch+1,\n",
    "            \"batch\": batch_idx+1,\n",
    "            \"debug_msg\": f\"Batch {batch_idx+1} 处理完成，当前loss: {loss:.4f}\"\n",
    "        })\n",
    "\n",
    "        # print(f\"t: {t}, loss: {loss}, batch: {batch_idx+1}, epoch: {epoch+1}\")\n",
    "        logging.info(f\"t: {t}, loss: {loss}, batch: {batch_idx+1}, epoch: {epoch+1}\")\n",
    "        t = t + 1\n",
    "# 记录重要的调试信息到summary\n",
    "run.summary['Debug summary'] = \"训练完成，共5个epoch，最终loss约0.7\"\n",
    "\n",
    "# 记录模型架构等详细信息\n",
    "model_info = \"\"\"\n",
    "SimpleModel(\n",
    "  (fc1): Linear(in_features=10, out_features=5, bias=True)\n",
    "  (fc2): Linear(in_features=5, out_features=1, bias=True)\n",
    "  (activation): ReLU()\n",
    ")\n",
    "\"\"\"\n",
    "wandb.log({\n",
    "    \"model_details\": wandb.Table(\n",
    "        columns=[\"Model Architecture\"], \n",
    "        data=[[model_info]]\n",
    "    )\n",
    "})\n",
    "\n",
    "wandb.finish()\n"
   ]
  }
 ],
 "metadata": {
  "language_info": {
   "name": "python"
  }
 },
 "nbformat": 4,
 "nbformat_minor": 2
}
